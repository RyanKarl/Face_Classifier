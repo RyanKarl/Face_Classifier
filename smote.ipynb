{
 "cells": [
  {
   "cell_type": "code",
   "execution_count": 61,
   "metadata": {},
   "outputs": [],
   "source": [
    "import numpy as np\n",
    "import random\n",
    "import pickle\n",
    "from imblearn.over_sampling import SMOTE"
   ]
  },
  {
   "cell_type": "code",
   "execution_count": 62,
   "metadata": {},
   "outputs": [
    {
     "data": {
      "text/plain": [
       "101"
      ]
     },
     "execution_count": 62,
     "metadata": {},
     "output_type": "execute_result"
    }
   ],
   "source": [
    "with open('encodings.pickle', 'rb') as f:\n",
    "    encodings = pickle.load(f, encoding='latin1')\n",
    "len(encodings['encodings'])"
   ]
  },
  {
   "cell_type": "code",
   "execution_count": 63,
   "metadata": {},
   "outputs": [
    {
     "data": {
      "text/plain": [
       "SMOTE(k_neighbors=5, n_jobs=None, random_state=None, sampling_strategy='auto')"
      ]
     },
     "execution_count": 63,
     "metadata": {},
     "output_type": "execute_result"
    }
   ],
   "source": [
    "# sm = SMOTE(sampling_strategy='auto')\n",
    "# sm"
   ]
  },
  {
   "cell_type": "code",
   "execution_count": 57,
   "metadata": {},
   "outputs": [],
   "source": [
    "# names_ryan = []\n",
    "# names_pt = []\n",
    "\n",
    "# enc_ryan = []\n",
    "# enc_pt = []"
   ]
  },
  {
   "cell_type": "code",
   "execution_count": 58,
   "metadata": {},
   "outputs": [],
   "source": [
    "# for name, enc in zip(encodings['names'], encodings['encodings']):\n",
    "#     if name == 'ryan_karl':\n",
    "#         names_ryan.append('ryan_karl')\n",
    "#         enc_ryan.append(enc)\n",
    "#     else:\n",
    "#         names_pt.append('patrick_tinsley')\n",
    "#         enc_pt.append(enc)"
   ]
  },
  {
   "cell_type": "code",
   "execution_count": 59,
   "metadata": {},
   "outputs": [],
   "source": [
    "# encodings_ryan = {\n",
    "#     'names':names_ryan,\n",
    "#     'encodings':enc_ryan\n",
    "# }\n",
    "# encodings_pt = {\n",
    "#     'names':names_pt,\n",
    "#     'encodings':enc_pt\n",
    "# }"
   ]
  },
  {
   "cell_type": "code",
   "execution_count": 65,
   "metadata": {},
   "outputs": [],
   "source": [
    "for i in range(6000-101):\n",
    "    X, y = SMOTE().fit_resample(encodings['encodings'], encodings['names'])\n",
    "    encodings['encodings'].append(X[-1])\n",
    "    encodings['names'].append(y[-1])"
   ]
  },
  {
   "cell_type": "code",
   "execution_count": 69,
   "metadata": {},
   "outputs": [
    {
     "data": {
      "text/plain": [
       "6000"
      ]
     },
     "execution_count": 69,
     "metadata": {},
     "output_type": "execute_result"
    }
   ],
   "source": [
    "len(encodings['encodings'])"
   ]
  },
  {
   "cell_type": "code",
   "execution_count": 70,
   "metadata": {},
   "outputs": [],
   "source": [
    "with open('smoted_encodings.pickle', 'wb') as f:\n",
    "    pickle.dump(encodings, f)"
   ]
  },
  {
   "cell_type": "code",
   "execution_count": null,
   "metadata": {},
   "outputs": [],
   "source": []
  }
 ],
 "metadata": {
  "kernelspec": {
   "display_name": "Python 3",
   "language": "python",
   "name": "python3"
  },
  "language_info": {
   "codemirror_mode": {
    "name": "ipython",
    "version": 3
   },
   "file_extension": ".py",
   "mimetype": "text/x-python",
   "name": "python",
   "nbconvert_exporter": "python",
   "pygments_lexer": "ipython3",
   "version": "3.7.3"
  }
 },
 "nbformat": 4,
 "nbformat_minor": 2
}
